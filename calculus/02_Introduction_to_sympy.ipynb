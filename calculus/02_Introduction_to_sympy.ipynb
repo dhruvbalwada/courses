{
 "cells": [
  {
   "cell_type": "markdown",
   "metadata": {},
   "source": [
    "# Taming math and physics using `SymPy`"
   ]
  },
  {
   "cell_type": "markdown",
   "metadata": {},
   "source": [
    "## Introduction"
   ]
  },
  {
   "cell_type": "markdown",
   "metadata": {},
   "source": [
    "You can use a computer algebra system (CAS) to compute complicated\n",
    "math expressions, solve equations, perform calculus procedures,\n",
    "and simulate physics systems.\n",
    "\n",
    "All computer algebra systems offer essentially the same functionality,\n",
    "so it doesn't matter which system you use: there are free\n",
    "systems like `SymPy`, `Magma`, or `Octave`, and commercial systems like\n",
    "`Maple`, `MATLAB`, and `Mathematica`. This tutorial is an introduction to\n",
    "`SymPy`, which is a *symbolic* computer algebra system written in the\n",
    "programming language `Python`. In a symbolic CAS, numbers and\n",
    "operations are represented symbolically, so the answers obtained are\n",
    "exact. For example, the number &radic;2 is represented in `SymPy` as the\n",
    "object `Pow(2,1/2)`, whereas in numerical computer algebra systems\n",
    "like `Octave`, the number &radic;2 is represented as the approximation\n",
    "1.41421356237310 (a `float`). For most purposes the approximation\n",
    "is okay, but sometimes approximations can lead to problems:\n",
    "`float(sqrt(2))*float(sqrt(2))` = 2.00000000000000044 &ne; 2. Because\n",
    "`SymPy` uses exact representations, you'll never run into such\n",
    "problems: `Pow(2,1/2)*Pow(2,1/2)` = 2.\n",
    "\n",
    "This tutorial is organized as follows. We'll begin by introducing the\n",
    "`SymPy` basics and the bread-and-butter functions used for manipulating\n",
    "expressions and solving equations. Afterward, we'll discuss the\n",
    "`SymPy` functions that implement calculus operations like differentiation\n",
    "and integration. We'll also introduce the functions used to deal with\n",
    "vectors and complex numbers. Later we'll see how to use vectors and\n",
    "integrals to understand Newtonian mechanics. In the last section,\n",
    "we'll introduce the linear algebra functions available in `SymPy`.\n",
    "\n",
    "This tutorial presents many explanations as blocks of code. Be sure\n",
    "to try the code examples on your own by typing the commands into\n",
    "`SymPy`. It's always important to verify for yourself!"
   ]
  },
  {
   "cell_type": "markdown",
   "metadata": {},
   "source": [
    "## Using SymPy"
   ]
  },
  {
   "cell_type": "markdown",
   "metadata": {},
   "source": [
    "The easiest way to use `SymPy`, provided you're connected to the\n",
    "Internet, is to visit http://live.sympy.org. You'll be presented with\n",
    "an interactive prompt into which you can enter your commands&mdash;right\n",
    "in your browser.\n",
    "\n",
    "If you want to use `SymPy` on your own computer, you must install\n",
    "`Python` and the python package `sympy`. You can then open a command\n",
    "prompt and start a `SymPy` session using:\n",
    "\n",
    "```\n",
    "you@host$ python\n",
    "Python X.Y.Z\n",
    "[GCC a.b.c (Build Info)] on platform\n",
    "Type \"help\", \"copyright\", or \"license\" for more information.\n",
    ">>> from sympy import *\n",
    ">>>\n",
    "```\n",
    "\n",
    "The `>>>` prompt indicates you're in the Python shell which accepts\n",
    "Python commands. The command `from sympy import *` imports all\n",
    "the `SymPy` functions into the current namespace. All `SymPy` functions\n",
    "are now available to you. To exit the python shell press `CTRL+D`.\n",
    "\n",
    "I highly recommend you also install `ipython`, which is an improved\n",
    "interactive python shell. If you have `ipython` and `SymPy` installed,\n",
    "you can start an `ipython` shell with `SymPy` pre-imported using the\n",
    "command `isympy`. For an even better experience, you can try `ipython notebook`,\n",
    "which is a web frontend for the `ipython` shell.\n",
    "\n",
    "You can start your session the same way as `isympy` do, by running following commands, which will be detaily described latter."
   ]
  },
  {
   "cell_type": "code",
   "execution_count": 1,
   "metadata": {},
   "outputs": [
    {
     "ename": "ModuleNotFoundError",
     "evalue": "No module named 'sympy'",
     "output_type": "error",
     "traceback": [
      "\u001b[0;31m---------------------------------------------------------------------------\u001b[0m",
      "\u001b[0;31mModuleNotFoundError\u001b[0m                       Traceback (most recent call last)",
      "\u001b[0;32m<ipython-input-1-29e905591bba>\u001b[0m in \u001b[0;36m<module>\u001b[0;34m()\u001b[0m\n\u001b[0;32m----> 1\u001b[0;31m \u001b[0;32mfrom\u001b[0m \u001b[0msympy\u001b[0m \u001b[0;32mimport\u001b[0m \u001b[0minit_session\u001b[0m\u001b[0;34m\u001b[0m\u001b[0m\n\u001b[0m\u001b[1;32m      2\u001b[0m \u001b[0minit_session\u001b[0m\u001b[0;34m(\u001b[0m\u001b[0;34m)\u001b[0m\u001b[0;34m\u001b[0m\u001b[0m\n",
      "\u001b[0;31mModuleNotFoundError\u001b[0m: No module named 'sympy'"
     ]
    }
   ],
   "source": [
    "from sympy import init_session\n",
    "init_session()"
   ]
  },
  {
   "cell_type": "markdown",
   "metadata": {},
   "source": [
    "## Fundamentals of mathematics"
   ]
  },
  {
   "cell_type": "markdown",
   "metadata": {},
   "source": [
    "Let's begin by learning about the basic `SymPy` objects and the\n",
    "operations we can carry out on them. We'll learn the `SymPy` equivalents\n",
    "of many math verbs like &ldquo;to solve&rdquo; (an equation), &ldquo;to expand&rdquo; (an\n",
    "expression), &ldquo;to factor&rdquo; (a polynomial)."
   ]
  },
  {
   "cell_type": "markdown",
   "metadata": {},
   "source": [
    "### Symbols"
   ]
  },
  {
   "cell_type": "markdown",
   "metadata": {},
   "source": [
    "Python is a civilized language so there's no need to define variables\n",
    "before assigning values to them. When you write `a = 3`, you define a\n",
    "new name `a` and set it to the value `3`. You can now use the name `a`\n",
    "in subsequent calculations.\n",
    "\n",
    "Most interesting `SymPy` calculations require us to define `symbols`,\n",
    "which are the `SymPy` objects for representing variables and unknowns.\n",
    "For your convenience, when [live.sympy.org](http://live.sympy.org) starts, it runs the\n",
    "following commands automatically:"
   ]
  },
  {
   "cell_type": "code",
   "execution_count": 10,
   "metadata": {
    "collapsed": true
   },
   "outputs": [],
   "source": [
    "from __future__ import division\n",
    "from sympy import *\n",
    "x, y, z, t = symbols('x y z t')\n",
    "k, m, n = symbols('k m n', integer=True)\n"
   ]
  },
  {
   "cell_type": "markdown",
   "metadata": {},
   "source": [
    "The first statement instructs python to convert `1/7` to `1.0/7` when\n",
    "dividing, potentially saving you from any int division confusion. The\n",
    "second statement imports all the `SymPy` functions. The remaining\n",
    "statements define some generic symbols `x`, `y`, `z`, and `t`, and several\n",
    "other symbols with special properties.\n",
    "\n",
    "Note the difference between the following two statements:"
   ]
  },
  {
   "cell_type": "code",
   "execution_count": 11,
   "metadata": {},
   "outputs": [
    {
     "data": {
      "image/png": "[encoded data removed]",
      "text/latex": [
       "$$x + 2$$"
      ],
      "text/plain": [
       "x + 2"
      ]
     },
     "execution_count": 11,
     "metadata": {},
     "output_type": "execute_result"
    }
   ],
   "source": [
    "x + 2            # an Add expression"
   ]
  },
  {
   "cell_type": "code",
   "execution_count": 12,
   "metadata": {},
   "outputs": [
    {
     "ename": "NameError",
     "evalue": "name 'p' is not defined",
     "output_type": "error",
     "traceback": [
      "\u001b[1;31m---------------------------------------------------------------------------\u001b[0m\n\u001b[1;31mNameError\u001b[0m                                 Traceback (most recent call last)",
      "\u001b[1;32m<ipython-input-12-d62eaef0cf31>\u001b[0m in \u001b[0;36m<module>\u001b[1;34m()\u001b[0m\n\u001b[1;32m----> 1\u001b[1;33m \u001b[0mp\u001b[0m \u001b[1;33m+\u001b[0m \u001b[1;36m2\u001b[0m\u001b[1;33m\u001b[0m\u001b[0m\n\u001b[0m",
      "\u001b[1;31mNameError\u001b[0m: name 'p' is not defined"
     ]
    }
   ],
   "source": [
    "p + 2"
   ]
  },
  {
   "cell_type": "markdown",
   "metadata": {},
   "source": [
    "The name `x` is defined as a symbol, so `SymPy` knows that `x + 2` is an\n",
    "expression; but the variable `p` is not defined, so `SymPy` doesn't know\n",
    "what to make of `p + 2`. To use `p` in expressions, you must first define\n",
    "it as a symbol:"
   ]
  },
  {
   "cell_type": "code",
   "execution_count": 13,
   "metadata": {},
   "outputs": [
    {
     "data": {
      "image/png": "[encoded data removed]",
      "text/latex": [
       "$$p + 2$$"
      ],
      "text/plain": [
       "p + 2"
      ]
     },
     "execution_count": 13,
     "metadata": {},
     "output_type": "execute_result"
    }
   ],
   "source": [
    "p = Symbol('p')  # the same as p = symbols('p')\n",
    "p + 2            # = Add(Symbol('p'), Integer(2))"
   ]
  },
  {
   "cell_type": "markdown",
   "metadata": {},
   "source": [
    "You can define a sequence of variables using the following notation:"
   ]
  },
  {
   "cell_type": "code",
   "execution_count": 14,
   "metadata": {
    "collapsed": true
   },
   "outputs": [],
   "source": [
    "a0, a1, a2, a3 = symbols('a0:4')"
   ]
  },
  {
   "cell_type": "markdown",
   "metadata": {},
   "source": [
    "You can use any name you want for a variable, but it's best if you\n",
    "avoid the letters `Q,C,O,S,I,N` and `E` because they have special uses\n",
    "in `SymPy`: `I` is the unit imaginary number $i \\equiv \\sqrt(-1)$, `E` is the base of\n",
    "the natural logarithm, `S()` is the sympify function, `N()` is used to\n",
    "obtain numeric approximations, and `O` is used for big-O notation.\n",
    "\n",
    "The underscore symbol `_` is a special variable that contains the result\n",
    "of the last printed value. The variable `_` is analogous to the `ans` button\n",
    "on certain calculators, and is useful in multi-step calculations:"
   ]
  },
  {
   "cell_type": "code",
   "execution_count": 15,
   "metadata": {},
   "outputs": [
    {
     "data": {
      "image/png": "[encoded data removed]",
      "text/latex": [
       "$$6$$"
      ],
      "text/plain": [
       "6"
      ]
     },
     "execution_count": 15,
     "metadata": {},
     "output_type": "execute_result"
    }
   ],
   "source": [
    "3+3"
   ]
  },
  {
   "cell_type": "code",
   "execution_count": 16,
   "metadata": {},
   "outputs": [
    {
     "data": {
      "image/png": "[encoded data removed]",
      "text/latex": [
       "$$12$$"
      ],
      "text/plain": [
       "12"
      ]
     },
     "execution_count": 16,
     "metadata": {},
     "output_type": "execute_result"
    }
   ],
   "source": [
    "_*2"
   ]
  },
  {
   "cell_type": "markdown",
   "metadata": {},
   "source": [
    "### Expresions"
   ]
  },
  {
   "cell_type": "markdown",
   "metadata": {},
   "source": [
    "You define `SymPy` expressions by combining symbols with basic math\n",
    "operations and other functions:"
   ]
  },
  {
   "cell_type": "code",
   "execution_count": 17,
   "metadata": {},
   "outputs": [
    {
     "data": {
      "image/png": "[encoded data removed]",
      "text/latex": [
       "$$2 x - \\sin{\\left (x \\right )} + 42$$"
      ],
      "text/plain": [
       "2⋅x - sin(x) + 42"
      ]
     },
     "execution_count": 17,
     "metadata": {},
     "output_type": "execute_result"
    }
   ],
   "source": [
    "expr = 2*x + 3*x - sin(x) - 3*x + 42\n",
    "simplify(expr)"
   ]
  },
  {
   "cell_type": "markdown",
   "metadata": {},
   "source": [
    "The function `simplify` can be used on any expression to simplify\n",
    "it. The examples below illustrate other useful `SymPy` functions that\n",
    "correspond to common mathematical operations on expressions:"
   ]
  },
  {
   "cell_type": "code",
   "execution_count": 18,
   "metadata": {},
   "outputs": [
    {
     "data": {
      "image/png": "[encoded data removed]",
      "text/latex": [
       "$$\\left(x - 4\\right) \\left(x + 2\\right)$$"
      ],
      "text/plain": [
       "(x - 4)⋅(x + 2)"
      ]
     },
     "execution_count": 18,
     "metadata": {},
     "output_type": "execute_result"
    }
   ],
   "source": [
    "factor( x**2-2*x-8 )"
   ]
  },
  {
   "cell_type": "code",
   "execution_count": 19,
   "metadata": {
    "scrolled": true
   },
   "outputs": [
    {
     "data": {
      "image/png": "[encoded data removed]",
      "text/latex": [
       "$$x^{2} - 2 x - 8$$"
      ],
      "text/plain": [
       " 2          \n",
       "x  - 2⋅x - 8"
      ]
     },
     "execution_count": 19,
     "metadata": {},
     "output_type": "execute_result"
    }
   ],
   "source": [
    "expand( (x-4)*(x+2) )"
   ]
  },
  {
   "cell_type": "code",
   "execution_count": 20,
   "metadata": {},
   "outputs": [
    {
     "data": {
      "image/png": "[encoded data removed]",
      "text/latex": [
       "$$a b + x^{2} + x \\left(a + b\\right)$$"
      ],
      "text/plain": [
       "       2            \n",
       "a⋅b + x  + x⋅(a + b)"
      ]
     },
     "execution_count": 20,
     "metadata": {},
     "output_type": "execute_result"
    }
   ],
   "source": [
    "a, b = symbols('a b')\n",
    "collect(x**2 + x*b + a*x + a*b, x)  # collect terms for diff. pows of x"
   ]
  },
  {
   "cell_type": "markdown",
   "metadata": {},
   "source": [
    "To substitute a given value into an expression, call the `.subs()`\n",
    "method, passing in a python dictionary object `{ key:val, ... }`\n",
    "with the symbol&ndash;value substitutions you want to make:"
   ]
  },
  {
   "cell_type": "code",
   "execution_count": 21,
   "metadata": {},
   "outputs": [
    {
     "data": {
      "image/png": "[encoded data removed]",
      "text/latex": [
       "$$\\sin{\\left (x \\right )} + \\cos{\\left (y \\right )}$$"
      ],
      "text/plain": [
       "sin(x) + cos(y)"
      ]
     },
     "execution_count": 21,
     "metadata": {},
     "output_type": "execute_result"
    }
   ],
   "source": [
    "expr = sin(x) + cos(y)\n",
    "expr"
   ]
  },
  {
   "cell_type": "code",
   "execution_count": 22,
   "metadata": {
    "scrolled": true
   },
   "outputs": [
    {
     "data": {
      "image/png": "[encoded data removed]",
      "text/latex": [
       "$$\\cos{\\left (2 \\right )} + \\sin{\\left (1 \\right )}$$"
      ],
      "text/plain": [
       "cos(2) + sin(1)"
      ]
     },
     "execution_count": 22,
     "metadata": {},
     "output_type": "execute_result"
    }
   ],
   "source": [
    "expr.subs({x:1, y:2})"
   ]
  },
  {
   "cell_type": "code",
   "execution_count": 23,
   "metadata": {},
   "outputs": [
    {
     "data": {
      "image/png": "[encoded data removed]",
      "text/latex": [
       "$$0.425324148260754$$"
      ],
      "text/plain": [
       "0.425324148260754"
      ]
     },
     "execution_count": 23,
     "metadata": {},
     "output_type": "execute_result"
    }
   ],
   "source": [
    "expr.subs({x:1, y:2}).n()"
   ]
  },
  {
   "cell_type": "markdown",
   "metadata": {},
   "source": [
    "Note how we used `.n()` to obtain the expression's numeric value."
   ]
  },
  {
   "cell_type": "markdown",
   "metadata": {},
   "source": [
    "### Solving equations"
   ]
  },
  {
   "cell_type": "markdown",
   "metadata": {},
   "source": [
    "The function `solve` is the main workhorse in `SymPy`. This incredibly\n",
    "powerful function knows how to solve all kinds of equations. In fact\n",
    "`solve` can solve pretty much any equation! When high school students\n",
    "learn about this function, they get really angry&mdash;why did they spend\n",
    "five years of their life learning to solve various equations by hand,\n",
    "when all along there was this `solve` thing that could do all the math\n",
    "for them? Don't worry, learning math is never a waste of time.\n",
    "\n",
    "The function `solve` takes two arguments. Use `solve(expr,var)` to\n",
    "solve the equation `expr==0` for the variable `var`. You can rewrite any\n",
    "equation in the form `expr==0` by moving all the terms to one side\n",
    "of the equation; the solutions to $A(x) = B(x)$ are the same as the\n",
    "solutions to $A(x) - B(x) = 0$.\n",
    "\n",
    "For example, to solve the quadratic equation $x^2 + 2x - 8 = 0$, use"
   ]
  },
  {
   "cell_type": "code",
   "execution_count": 24,
   "metadata": {},
   "outputs": [
    {
     "data": {
      "image/png": "[encoded data removed]",
      "text/latex": [
       "$$\\left [ -4, \\quad 2\\right ]$$"
      ],
      "text/plain": [
       "[-4, 2]"
      ]
     },
     "execution_count": 24,
     "metadata": {},
     "output_type": "execute_result"
    }
   ],
   "source": [
    "solve( x**2 + 2*x - 8, x)"
   ]
  },
  {
   "cell_type": "markdown",
   "metadata": {},
   "source": [
    "In this case the equation has two solutions so `solve` returns a list.\n",
    "Check that $x = 2$ and $x = -4$ satisfy the equation $x^2 + 2x - 8 = 0$.\n",
    "\n",
    "The best part about `solve` and `SymPy` is that you can obtain symbolic\n",
    "answers when solving equations. Instead of solving one specific\n",
    "quadratic equation, we can solve all possible equations of the form\n",
    "$ax^2 + bx + c = 0$ using the following steps:"
   ]
  },
  {
   "cell_type": "markdown",
   "metadata": {},
   "source": [
    "To solve a *system of equations*, you can feed `solve` with the list of\n",
    "equations as the first argument, and specify the list of unknowns you\n",
    "want to solve for as the second argument. For example, to solve for $x$\n",
    "and $y$ in the system of equations $x + y = 3$ and $3x - 2y = 0$, use"
   ]
  },
  {
   "cell_type": "code",
   "execution_count": 27,
   "metadata": {},
   "outputs": [
    {
     "data": {
      "image/png": "[encoded data removed]",
      "text/latex": [
       "$$\\left \\{ x : \\frac{6}{5}, \\quad y : \\frac{9}{5}\\right \\}$$"
      ],
      "text/plain": [
       "{x: 6/5, y: 9/5}"
      ]
     },
     "execution_count": 27,
     "metadata": {},
     "output_type": "execute_result"
    }
   ],
   "source": [
    "solve([x + y - 3, 3*x - 2*y], [x, y])"
   ]
  },
  {
   "cell_type": "markdown",
   "metadata": {},
   "source": [
    "The function `solve` is like a Swiss Army knife you can use to solve\n",
    "all kind of problems. Suppose you want to *complete the square* in the\n",
    "expression $x^2 - 4x + 7$, that is, you want to find constants $h$ and $k$\n",
    "such that $x^2 -4x + 7 = (x-h)^2 + k$. There is no special &ldquo;complete the\n",
    "square&rdquo; function in `SymPy`, but you can call solve on the equation\n",
    "$(x - h)^2 + k - (x^2 - 4x + 7) = 0$ to find the unknowns $h$ and $k$:"
   ]
  },
  {
   "cell_type": "code",
   "execution_count": 28,
   "metadata": {},
   "outputs": [
    {
     "data": {
      "image/png": "[encoded data removed]",
      "text/latex": [
       "$$\\left [ \\left ( 2, \\quad 3\\right )\\right ]$$"
      ],
      "text/plain": [
       "[(2, 3)]"
      ]
     },
     "execution_count": 28,
     "metadata": {},
     "output_type": "execute_result"
    }
   ],
   "source": [
    "h, k = symbols('h k')\n",
    "solve( (x-h)**2 + k - (x**2-4*x+7), [h,k] )"
   ]
  },
  {
   "cell_type": "code",
   "execution_count": 29,
   "metadata": {},
   "outputs": [
    {
     "data": {
      "image/png": "[encoded data removed]",
      "text/latex": [
       "$$x^{2} - 4 x + 7$$"
      ],
      "text/plain": [
       " 2          \n",
       "x  - 4⋅x + 7"
      ]
     },
     "execution_count": 29,
     "metadata": {},
     "output_type": "execute_result"
    }
   ],
   "source": [
    "((x-2)**2+3).expand()  # so h = 2 and k = 3, verify..."
   ]
  },
  {
   "cell_type": "markdown",
   "metadata": {},
   "source": [
    "Learn the basic `SymPy` commands and you'll never need to suffer\n",
    "another tedious arithmetic calculation painstakingly performed by\n",
    "hand again!"
   ]
  },
  {
   "cell_type": "markdown",
   "metadata": {},
   "source": [
    "### Polynomials"
   ]
  },
  {
   "cell_type": "markdown",
   "metadata": {},
   "source": [
    "Let's define a polynomial $P$ with roots at $x = 1$, $x = 2$, and $x = 3$:"
   ]
  },
  {
   "cell_type": "code",
   "execution_count": 36,
   "metadata": {
    "scrolled": true
   },
   "outputs": [
    {
     "data": {
      "image/png": "[encoded data removed]",
      "text/latex": [
       "$$\\left(x - 3\\right) \\left(x - 2\\right) \\left(x - 1\\right)$$"
      ],
      "text/plain": [
       "(x - 3)⋅(x - 2)⋅(x - 1)"
      ]
     },
     "execution_count": 36,
     "metadata": {},
     "output_type": "execute_result"
    }
   ],
   "source": [
    "P = (x-1)*(x-2)*(x-3)\n",
    "P"
   ]
  },
  {
   "cell_type": "markdown",
   "metadata": {},
   "source": [
    "To see the expanded version of the polynomial, call its `expand` method:"
   ]
  },
  {
   "cell_type": "code",
   "execution_count": 37,
   "metadata": {},
   "outputs": [
    {
     "data": {
      "image/png": "[encoded data removed]",
      "text/latex": [
       "$$x^{3} - 6 x^{2} + 11 x - 6$$"
      ],
      "text/plain": [
       " 3      2           \n",
       "x  - 6⋅x  + 11⋅x - 6"
      ]
     },
     "execution_count": 37,
     "metadata": {},
     "output_type": "execute_result"
    }
   ],
   "source": [
    "P.expand()"
   ]
  },
  {
   "cell_type": "markdown",
   "metadata": {},
   "source": [
    "When the polynomial is expressed in it's expanded form $P(x) =\n",
    "x^3 - 6x^2 + 11x - 6$, we can't immediately identify its roots. This is\n",
    "why the factored form $P(x) = (x - 1)(x - 2)(x - 3)$ is preferable. To\n",
    "factor a polynomial, call its `factor` method or simplify it:"
   ]
  },
  {
   "cell_type": "code",
   "execution_count": 38,
   "metadata": {},
   "outputs": [
    {
     "data": {
      "image/png": "[encoded data removed]",
      "text/latex": [
       "$$\\left(x - 3\\right) \\left(x - 2\\right) \\left(x - 1\\right)$$"
      ],
      "text/plain": [
       "(x - 3)⋅(x - 2)⋅(x - 1)"
      ]
     },
     "execution_count": 38,
     "metadata": {},
     "output_type": "execute_result"
    }
   ],
   "source": [
    "P.factor()"
   ]
  },
  {
   "cell_type": "code",
   "execution_count": 39,
   "metadata": {},
   "outputs": [
    {
     "data": {
      "image/png": "[encoded data removed]",
      "text/latex": [
       "$$\\left(x - 3\\right) \\left(x - 2\\right) \\left(x - 1\\right)$$"
      ],
      "text/plain": [
       "(x - 3)⋅(x - 2)⋅(x - 1)"
      ]
     },
     "execution_count": 39,
     "metadata": {},
     "output_type": "execute_result"
    }
   ],
   "source": [
    "P.simplify()"
   ]
  },
  {
   "cell_type": "markdown",
   "metadata": {},
   "source": [
    "Recall that the roots of the polynomial $P(x)$ are defined as the\n",
    "solutions to the equation $P(x) = 0$. We can use the `solve` function\n",
    "to find the roots of the polynomial:"
   ]
  },
  {
   "cell_type": "markdown",
   "metadata": {},
   "source": [
    "### Equality checking"
   ]
  },
  {
   "cell_type": "markdown",
   "metadata": {},
   "source": [
    "In the last example, we used the `simplify` function to check whether\n",
    "two expressions were equal. This way of checking equality works\n",
    "because $P = Q$ if and only if $P - Q = 0$. This is the best way to\n",
    "check if two expressions are equal in `SymPy` because it attempts all\n",
    "possible simplifications when comparing the expressions. Below is\n",
    "a list of other ways to check whether two quantities are equal with\n",
    "example cases where they fail:"
   ]
  },
  {
   "cell_type": "code",
   "execution_count": 42,
   "metadata": {
    "collapsed": true
   },
   "outputs": [],
   "source": [
    "p = (x-5)*(x+5)\n",
    "q = x**2 - 25"
   ]
  },
  {
   "cell_type": "code",
   "execution_count": 43,
   "metadata": {
    "scrolled": true
   },
   "outputs": [
    {
     "data": {
      "text/plain": [
       "False"
      ]
     },
     "execution_count": 43,
     "metadata": {},
     "output_type": "execute_result"
    }
   ],
   "source": [
    "p == q                      # fail"
   ]
  },
  {
   "cell_type": "code",
   "execution_count": 44,
   "metadata": {},
   "outputs": [
    {
     "data": {
      "text/plain": [
       "False"
      ]
     },
     "execution_count": 44,
     "metadata": {},
     "output_type": "execute_result"
    }
   ],
   "source": [
    "p - q == 0                  # fail"
   ]
  },
  {
   "cell_type": "code",
   "execution_count": 45,
   "metadata": {},
   "outputs": [
    {
     "data": {
      "text/plain": [
       "True"
      ]
     },
     "execution_count": 45,
     "metadata": {},
     "output_type": "execute_result"
    }
   ],
   "source": [
    "simplify(p - q) == 0"
   ]
  },
  {
   "cell_type": "code",
   "execution_count": 46,
   "metadata": {},
   "outputs": [
    {
     "data": {
      "text/plain": [
       "False"
      ]
     },
     "execution_count": 46,
     "metadata": {},
     "output_type": "execute_result"
    }
   ],
   "source": [
    "sin(x)**2 + cos(x)**2 == 1  # fail"
   ]
  },
  {
   "cell_type": "code",
   "execution_count": 47,
   "metadata": {},
   "outputs": [
    {
     "data": {
      "text/plain": [
       "True"
      ]
     },
     "execution_count": 47,
     "metadata": {},
     "output_type": "execute_result"
    }
   ],
   "source": [
    "simplify( sin(x)**2 + cos(x)**2 - 1) == 0"
   ]
  },
  {
   "cell_type": "markdown",
   "metadata": {},
   "source": [
    "### Trigonometry"
   ]
  },
  {
   "cell_type": "markdown",
   "metadata": {},
   "source": [
    "The trigonometric functions `sin` and `cos` take inputs in radians:"
   ]
  },
  {
   "cell_type": "code",
   "execution_count": 48,
   "metadata": {},
   "outputs": [
    {
     "data": {
      "image/png": "[encoded data removed]",
      "text/latex": [
       "$$\\frac{1}{2}$$"
      ],
      "text/plain": [
       "1/2"
      ]
     },
     "execution_count": 48,
     "metadata": {},
     "output_type": "execute_result"
    }
   ],
   "source": [
    "sin(pi/6)"
   ]
  },
  {
   "cell_type": "code",
   "execution_count": 49,
   "metadata": {},
   "outputs": [
    {
     "data": {
      "image/png": "[encoded data removed]",
      "text/latex": [
       "$$\\frac{\\sqrt{3}}{2}$$"
      ],
      "text/plain": [
       "  ___\n",
       "╲╱ 3 \n",
       "─────\n",
       "  2  "
      ]
     },
     "execution_count": 49,
     "metadata": {},
     "output_type": "execute_result"
    }
   ],
   "source": [
    "cos(pi/6)"
   ]
  },
  {
   "cell_type": "markdown",
   "metadata": {},
   "source": [
    "For angles in degrees, you need a conversion factor of $\\frac{\\pi}{180}$[rad/$^\\circ$]:"
   ]
  },
  {
   "cell_type": "code",
   "execution_count": 50,
   "metadata": {},
   "outputs": [
    {
     "data": {
      "image/png": "[encoded data removed]",
      "text/latex": [
       "$$\\frac{1}{2}$$"
      ],
      "text/plain": [
       "1/2"
      ]
     },
     "execution_count": 50,
     "metadata": {},
     "output_type": "execute_result"
    }
   ],
   "source": [
    "sin(30*pi/180)  # 30 deg = pi/6 rads"
   ]
  },
  {
   "cell_type": "markdown",
   "metadata": {},
   "source": [
    "## Calculus"
   ]
  },
  {
   "cell_type": "markdown",
   "metadata": {},
   "source": [
    "Calculus is the study of the properties of functions. The operations of\n",
    "calculus are used to describe the limit behaviour of functions, calculate\n",
    "their rates of change, and calculate the areas under their graphs. In\n",
    "this section we'll learn about the `SymPy` functions for calculating\n",
    "limits, derivatives, integrals, and summations."
   ]
  },
  {
   "cell_type": "markdown",
   "metadata": {},
   "source": [
    "### Infinity"
   ]
  },
  {
   "cell_type": "markdown",
   "metadata": {},
   "source": [
    "The infinity symbol is denoted `oo` (two lowercase `o`s) in `SymPy`. Infinity\n",
    "is not a number but a process: the process of counting forever. Thus,\n",
    "$\\infty + 1 = \\infty$, $\\infty$ is greater than any finite number, and $1/\\infty$ is an\n",
    "infinitely small number. `Sympy` knows how to correctly treat infinity\n",
    "in expressions:"
   ]
  },
  {
   "cell_type": "code",
   "execution_count": 78,
   "metadata": {},
   "outputs": [
    {
     "data": {
      "image/png": "[encoded data removed]",
      "text/latex": [
       "$$\\infty$$"
      ],
      "text/plain": [
       "∞"
      ]
     },
     "execution_count": 78,
     "metadata": {},
     "output_type": "execute_result"
    }
   ],
   "source": [
    "oo+1"
   ]
  },
  {
   "cell_type": "code",
   "execution_count": 79,
   "metadata": {},
   "outputs": [
    {
     "data": {
      "image/png": "[encoded data removed]",
      "text/latex": [
       "$$\\mathrm{True}$$"
      ],
      "text/plain": [
       "True"
      ]
     },
     "execution_count": 79,
     "metadata": {},
     "output_type": "execute_result"
    }
   ],
   "source": [
    "5000 < oo"
   ]
  },
  {
   "cell_type": "code",
   "execution_count": 80,
   "metadata": {},
   "outputs": [
    {
     "data": {
      "image/png": "[encoded data removed]",
      "text/latex": [
       "$$0$$"
      ],
      "text/plain": [
       "0"
      ]
     },
     "execution_count": 80,
     "metadata": {},
     "output_type": "execute_result"
    }
   ],
   "source": [
    "1/oo"
   ]
  },
  {
   "cell_type": "markdown",
   "metadata": {},
   "source": [
    "### Limits"
   ]
  },
  {
   "cell_type": "markdown",
   "metadata": {},
   "source": [
    "We use limits to describe, with mathematical precision, infinitely large\n",
    "quantities, infinitely small quantities, and procedures with infinitely\n",
    "many steps.\n",
    "\n",
    "The number $e$ is defined as the limit $e \\equiv \\lim_{n\\to\\infty}\\left(1+\\frac{1}{n}\\right)^n$:"
   ]
  },
  {
   "cell_type": "code",
   "execution_count": 81,
   "metadata": {},
   "outputs": [
    {
     "data": {
      "image/png": "[encoded data removed]",
      "text/latex": [
       "$$e$$"
      ],
      "text/plain": [
       "ℯ"
      ]
     },
     "execution_count": 81,
     "metadata": {},
     "output_type": "execute_result"
    }
   ],
   "source": [
    "limit( (1+1/n)**n, n, oo)"
   ]
  },
  {
   "cell_type": "markdown",
   "metadata": {},
   "source": [
    "This limit expression describes the annual growth rate of a loan with\n",
    "a nominal interest rate of 100% and infinitely frequent compounding.\n",
    "Borrow \\$1000 in such a scheme, and you'll owe $2718.28 after one year.\n",
    "\n",
    "Limits are also useful to describe the behaviour of functions. Consider\n",
    "the function $f(x) = \\frac{1}{x}$. The `limit` command shows us what happens\n",
    "to $f(x)$ near $x = 0$ and as $x$ goes to infinity:"
   ]
  },
  {
   "cell_type": "code",
   "execution_count": 82,
   "metadata": {},
   "outputs": [
    {
     "data": {
      "image/png": "[encoded data removed]",
      "text/latex": [
       "$$\\infty$$"
      ],
      "text/plain": [
       "∞"
      ]
     },
     "execution_count": 82,
     "metadata": {},
     "output_type": "execute_result"
    }
   ],
   "source": [
    "limit( 1/x, x, 0, dir=\"+\")"
   ]
  },
  {
   "cell_type": "code",
   "execution_count": 83,
   "metadata": {},
   "outputs": [
    {
     "data": {
      "image/png": "[encoded data removed]",
      "text/latex": [
       "$$-\\infty$$"
      ],
      "text/plain": [
       "-∞"
      ]
     },
     "execution_count": 83,
     "metadata": {},
     "output_type": "execute_result"
    }
   ],
   "source": [
    "limit( 1/x, x, 0, dir=\"-\")"
   ]
  },
  {
   "cell_type": "code",
   "execution_count": 84,
   "metadata": {},
   "outputs": [
    {
     "data": {
      "image/png": "[encoded data removed]",
      "text/latex": [
       "$$0$$"
      ],
      "text/plain": [
       "0"
      ]
     },
     "execution_count": 84,
     "metadata": {},
     "output_type": "execute_result"
    }
   ],
   "source": [
    "limit( 1/x, x, oo)"
   ]
  },
  {
   "cell_type": "markdown",
   "metadata": {},
   "source": [
    "### Derivatives"
   ]
  },
  {
   "cell_type": "markdown",
   "metadata": {},
   "source": [
    "The derivative function, denoted $f'(x)$, $\\frac{d}{dx}f(x)$, $\\frac{df}{dx}$, or $\\frac{dy}{dx}$, \n",
    "describes the *rate of change* of the function $f(x)$.\n",
    "The `SymPy` function `diff` computes the derivative of any expression:"
   ]
  },
  {
   "cell_type": "code",
   "execution_count": 88,
   "metadata": {},
   "outputs": [
    {
     "data": {
      "image/png": "[encoded data removed]",
      "text/latex": [
       "$$3 x^{2}$$"
      ],
      "text/plain": [
       "   2\n",
       "3⋅x "
      ]
     },
     "execution_count": 88,
     "metadata": {},
     "output_type": "execute_result"
    }
   ],
   "source": [
    "diff(x**3, x)"
   ]
  },
  {
   "cell_type": "markdown",
   "metadata": {},
   "source": [
    "The differentiation operation knows about the product rule $[f(x)g(x)]^\\prime=f^\\prime(x)g(x)+f(x)g^\\prime(x)$, \n",
    "the chain rule $f(g(x))' = f'(g(x))g'(x)$, \n",
    "and the quotient rule $\\left[\\frac{f(x)}{g(x)}\\right]^\\prime = \\frac{f'(x)g(x) - f(x)g'(x)}{g(x)^2}$:"
   ]
  },
  {
   "cell_type": "code",
   "execution_count": 89,
   "metadata": {},
   "outputs": [
    {
     "data": {
      "image/png": "[encoded data removed]",
      "text/latex": [
       "$$x^{2} \\cos{\\left (x \\right )} + 2 x \\sin{\\left (x \\right )}$$"
      ],
      "text/plain": [
       " 2                    \n",
       "x ⋅cos(x) + 2⋅x⋅sin(x)"
      ]
     },
     "execution_count": 89,
     "metadata": {},
     "output_type": "execute_result"
    }
   ],
   "source": [
    "diff( x**2*sin(x), x )"
   ]
  },
  {
   "cell_type": "code",
   "execution_count": 90,
   "metadata": {},
   "outputs": [
    {
     "data": {
      "image/png": "[encoded data removed]",
      "text/latex": [
       "$$2 x \\cos{\\left (x^{2} \\right )}$$"
      ],
      "text/plain": [
       "       ⎛ 2⎞\n",
       "2⋅x⋅cos⎝x ⎠"
      ]
     },
     "execution_count": 90,
     "metadata": {},
     "output_type": "execute_result"
    }
   ],
   "source": [
    "diff( sin(x**2), x )"
   ]
  },
  {
   "cell_type": "code",
   "execution_count": 91,
   "metadata": {},
   "outputs": [
    {
     "data": {
      "image/png": "[encoded data removed]",
      "text/latex": [
       "$$- \\frac{x^{2} \\cos{\\left (x \\right )}}{\\sin^{2}{\\left (x \\right )}} + \\frac{2 x}{\\sin{\\left (x \\right )}}$$"
      ],
      "text/plain": [
       "   2                \n",
       "  x ⋅cos(x)    2⋅x  \n",
       "- ───────── + ──────\n",
       "      2       sin(x)\n",
       "   sin (x)          "
      ]
     },
     "execution_count": 91,
     "metadata": {},
     "output_type": "execute_result"
    }
   ],
   "source": [
    "diff( x**2/sin(x), x )"
   ]
  },
  {
   "cell_type": "markdown",
   "metadata": {},
   "source": [
    "The second derivative of a function `f` is `diff(f,x,2)`:"
   ]
  },
  {
   "cell_type": "code",
   "execution_count": 92,
   "metadata": {},
   "outputs": [
    {
     "data": {
      "image/png": "[encoded data removed]",
      "text/latex": [
       "$$6 x$$"
      ],
      "text/plain": [
       "6⋅x"
      ]
     },
     "execution_count": 92,
     "metadata": {},
     "output_type": "execute_result"
    }
   ],
   "source": [
    "diff(x**3, x, 2)   # same as diff(diff(x**3, x), x)"
   ]
  },
  {
   "cell_type": "markdown",
   "metadata": {},
   "source": [
    "The exponential function $f(x)=e^x$ is special because it is equal to its derivative:"
   ]
  },
  {
   "cell_type": "code",
   "execution_count": 93,
   "metadata": {},
   "outputs": [
    {
     "data": {
      "image/png": "[encoded data removed]",
      "text/latex": [
       "$$e^{x}$$"
      ],
      "text/plain": [
       " x\n",
       "ℯ "
      ]
     },
     "execution_count": 93,
     "metadata": {},
     "output_type": "execute_result"
    }
   ],
   "source": [
    "diff( exp(x), x )  # same as diff( E**x, x  )"
   ]
  },
  {
   "cell_type": "markdown",
   "metadata": {},
   "source": [
    "A differential equation is an equation that relates some unknown function $f(x)$ to its derivative. \n",
    "An example of a differential equation is $f'(x)=f(x)$.\n",
    "What is the function $f(x)$ which is equal to its derivative?\n",
    "You can either try to guess what $f(x)$ is or use the `dsolve` function:"
   ]
  },
  {
   "cell_type": "markdown",
   "metadata": {},
   "source": [
    "### Tangent lines"
   ]
  },
  {
   "cell_type": "markdown",
   "metadata": {},
   "source": [
    "The *tangent line* to the function $f(x)$ at $x=x_0$ is \n",
    "the line that passes through the point $(x_0, f(x_0))$ and has \n",
    "the same slope as the function at that point.\n",
    "The tangent line to the function $f(x)$ at the point $x=x_0$ is described by the equation\n",
    "\n",
    "$$\n",
    "   T_1(x) =  f(x_0) \\ + \\  f'(x_0)(x-x_0).\n",
    "$$\n",
    "\n",
    "What is the equation of the tangent line to $f(x)=\\frac{1}{2}x^2$ at $x_0=1$?"
   ]
  },
  {
   "cell_type": "code",
   "execution_count": 95,
   "metadata": {},
   "outputs": [
    {
     "data": {
      "image/png": "[encoded data removed]",
      "text/latex": [
       "$$\\frac{x^{2}}{2}$$"
      ],
      "text/plain": [
       " 2\n",
       "x \n",
       "──\n",
       "2 "
      ]
     },
     "execution_count": 95,
     "metadata": {},
     "output_type": "execute_result"
    }
   ],
   "source": [
    "f = S('1/2')*x**2\n",
    "f"
   ]
  },
  {
   "cell_type": "code",
   "execution_count": 96,
   "metadata": {},
   "outputs": [
    {
     "data": {
      "image/png": "[encoded data removed]",
      "text/latex": [
       "$$x$$"
      ],
      "text/plain": [
       "x"
      ]
     },
     "execution_count": 96,
     "metadata": {},
     "output_type": "execute_result"
    }
   ],
   "source": [
    "df = diff(f,x)\n",
    "df"
   ]
  },
  {
   "cell_type": "code",
   "execution_count": 97,
   "metadata": {},
   "outputs": [
    {
     "data": {
      "image/png": "[encoded data removed]",
      "text/latex": [
       "$$x - \\frac{1}{2}$$"
      ],
      "text/plain": [
       "x - 1/2"
      ]
     },
     "execution_count": 97,
     "metadata": {},
     "output_type": "execute_result"
    }
   ],
   "source": [
    "T_1 = f.subs({x:1}) + df.subs({x:1})*(x - 1)\n",
    "T_1"
   ]
  },
  {
   "cell_type": "markdown",
   "metadata": {},
   "source": [
    "The tangent line $T_1(x)$ has the same value and slope as the function $f(x)$ at $x=1$:"
   ]
  },
  {
   "cell_type": "code",
   "execution_count": 98,
   "metadata": {},
   "outputs": [
    {
     "data": {
      "text/plain": [
       "True"
      ]
     },
     "execution_count": 98,
     "metadata": {},
     "output_type": "execute_result"
    }
   ],
   "source": [
    "T_1.subs({x:1}) == f.subs({x:1})"
   ]
  },
  {
   "cell_type": "code",
   "execution_count": 99,
   "metadata": {},
   "outputs": [
    {
     "data": {
      "text/plain": [
       "True"
      ]
     },
     "execution_count": 99,
     "metadata": {},
     "output_type": "execute_result"
    }
   ],
   "source": [
    "diff(T_1,x).subs({x:1}) == diff(f,x).subs({x:1})"
   ]
  },
  {
   "cell_type": "markdown",
   "metadata": {},
   "source": [
    "### Integrals"
   ]
  },
  {
   "cell_type": "markdown",
   "metadata": {},
   "source": [
    "The *integral* of $f(x)$ corresponds to the computation of the area under the graph of $f(x)$.\n",
    "The area under $f(x)$ between the points $x=a$ and $x=b$ is denoted as follows:\n",
    "\n",
    "$$\n",
    " A(a,b) = \\int_a^b f(x) \\: dx.\n",
    "$$\n",
    "\n",
    "The *integral function* $F$ corresponds to the area calculation as a function \n",
    "of the upper limit of integration:\n",
    "\n",
    "$$\n",
    "  F(c) \\equiv \\int_0^c \\! f(x)\\:dx\\,.\n",
    "$$\n",
    "\n",
    "The area under $f(x)$ between $x=a$ and $x=b$ is obtained by \n",
    "calculating the *change* in the integral function:\n",
    "\n",
    "$$\n",
    "   A(a,b) = \\int_a^b \\! f(x)\\:dx  =  F(b)-F(a).\n",
    "$$\n",
    "\n",
    "In `SymPy` we use `integrate(f, x)` to obtain the integral function $F(x)$ of any function $f(x)$:\n",
    "$F(x) = \\int_0^x f(u)\\,du$."
   ]
  },
  {
   "cell_type": "code",
   "execution_count": 104,
   "metadata": {},
   "outputs": [
    {
     "data": {
      "image/png": "[encoded data removed]",
      "text/latex": [
       "$$\\frac{x^{4}}{4}$$"
      ],
      "text/plain": [
       " 4\n",
       "x \n",
       "──\n",
       "4 "
      ]
     },
     "execution_count": 104,
     "metadata": {},
     "output_type": "execute_result"
    }
   ],
   "source": [
    "integrate(x**3, x)"
   ]
  },
  {
   "cell_type": "code",
   "execution_count": 105,
   "metadata": {},
   "outputs": [
    {
     "data": {
      "image/png": "[encoded data removed]",
      "text/latex": [
       "$$- \\cos{\\left (x \\right )}$$"
      ],
      "text/plain": [
       "-cos(x)"
      ]
     },
     "execution_count": 105,
     "metadata": {},
     "output_type": "execute_result"
    }
   ],
   "source": [
    "integrate(sin(x), x)"
   ]
  },
  {
   "cell_type": "code",
   "execution_count": 106,
   "metadata": {},
   "outputs": [
    {
     "data": {
      "image/png": "[encoded data removed]",
      "text/latex": [
       "$$x \\log{\\left (x \\right )} - x$$"
      ],
      "text/plain": [
       "x⋅log(x) - x"
      ]
     },
     "execution_count": 106,
     "metadata": {},
     "output_type": "execute_result"
    }
   ],
   "source": [
    "integrate(ln(x), x)"
   ]
  },
  {
   "cell_type": "markdown",
   "metadata": {},
   "source": [
    "This is known as an *indefinite integral* since the limits of integration are not defined. \n",
    "\n",
    "In contrast, \n",
    "a *definite integral* computes the area under $f(x)$ between $x=a$ and $x=b$.\n",
    "Use `integrate(f, (x,a,b))` to compute the definite integrals of the form $A(a,b)=\\int_a^b f(x) \\, dx$:"
   ]
  },
  {
   "cell_type": "code",
   "execution_count": 107,
   "metadata": {},
   "outputs": [
    {
     "data": {
      "image/png": "[encoded data removed]",
      "text/latex": [
       "$$\\frac{1}{4}$$"
      ],
      "text/plain": [
       "1/4"
      ]
     },
     "execution_count": 107,
     "metadata": {},
     "output_type": "execute_result"
    }
   ],
   "source": [
    "integrate(x**3, (x,0,1))  # the area under x^3 from x=0 to x=1"
   ]
  },
  {
   "cell_type": "markdown",
   "metadata": {},
   "source": [
    "We can obtain the same area by first calculating the indefinite integral $F(c)=\\int_0^c \\!f(x)\\,dx$,\n",
    "then using $A(a,b) = F(x)\\big\\vert_a^b \\equiv F(b) - F(a)$:"
   ]
  },
  {
   "cell_type": "code",
   "execution_count": 108,
   "metadata": {},
   "outputs": [
    {
     "data": {
      "image/png": "[encoded data removed]",
      "text/latex": [
       "$$\\frac{1}{4}$$"
      ],
      "text/plain": [
       "1/4"
      ]
     },
     "execution_count": 108,
     "metadata": {},
     "output_type": "execute_result"
    }
   ],
   "source": [
    "F = integrate(x**3, x)\n",
    "F.subs({x:1}) - F.subs({x:0})"
   ]
  },
  {
   "cell_type": "markdown",
   "metadata": {},
   "source": [
    "Integrals correspond to *signed* area calculations:"
   ]
  },
  {
   "cell_type": "code",
   "execution_count": 109,
   "metadata": {},
   "outputs": [
    {
     "data": {
      "image/png": "[encoded data removed]",
      "text/latex": [
       "$$2$$"
      ],
      "text/plain": [
       "2"
      ]
     },
     "execution_count": 109,
     "metadata": {},
     "output_type": "execute_result"
    }
   ],
   "source": [
    "integrate(sin(x), (x,0,pi))"
   ]
  },
  {
   "cell_type": "code",
   "execution_count": 110,
   "metadata": {},
   "outputs": [
    {
     "data": {
      "image/png": "[encoded data removed]",
      "text/latex": [
       "$$-2$$"
      ],
      "text/plain": [
       "-2"
      ]
     },
     "execution_count": 110,
     "metadata": {},
     "output_type": "execute_result"
    }
   ],
   "source": [
    "integrate(sin(x), (x,pi,2*pi))"
   ]
  },
  {
   "cell_type": "code",
   "execution_count": 111,
   "metadata": {},
   "outputs": [
    {
     "data": {
      "image/png": "[encoded data removed]",
      "text/latex": [
       "$$0$$"
      ],
      "text/plain": [
       "0"
      ]
     },
     "execution_count": 111,
     "metadata": {},
     "output_type": "execute_result"
    }
   ],
   "source": [
    "integrate(sin(x), (x,0,2*pi))"
   ]
  },
  {
   "cell_type": "markdown",
   "metadata": {},
   "source": [
    "During the first half of its $2\\pi$-cycle,\n",
    "the graph of $\\sin(x)$ is above the $x$-axis, so it has a positive contribution to the area under the curve.\n",
    "During the second half of its cycle (from $x=\\pi$ to $x=2\\pi$),\n",
    "$\\sin(x)$ is below the $x$-axis, so it contributes negative area.\n",
    "Draw a graph of $\\sin(x)$ to see what is going on."
   ]
  },
  {
   "cell_type": "markdown",
   "metadata": {},
   "source": [
    "### Fundamental theorem of calculus"
   ]
  },
  {
   "cell_type": "markdown",
   "metadata": {},
   "source": [
    "The integral is the &ldquo;inverse operation&rdquo; of the derivative.\n",
    "If you perform the integral operation followed by the derivative operation on some function, \n",
    "you'll obtain the same function:\n",
    "\n",
    "$$\n",
    "  \\left(\\frac{d}{dx} \\circ \\int dx \\right) f(x) \\equiv \\frac{d}{dx} \\int_c^x f(u)\\:du = f(x).\n",
    "$$"
   ]
  },
  {
   "cell_type": "code",
   "execution_count": 112,
   "metadata": {},
   "outputs": [
    {
     "data": {
      "image/png": "[encoded data removed]",
      "text/latex": [
       "$$\\frac{x^{3}}{3}$$"
      ],
      "text/plain": [
       " 3\n",
       "x \n",
       "──\n",
       "3 "
      ]
     },
     "execution_count": 112,
     "metadata": {},
     "output_type": "execute_result"
    }
   ],
   "source": [
    "f = x**2\n",
    "F = integrate(f, x)\n",
    "F"
   ]
  },
  {
   "cell_type": "code",
   "execution_count": 113,
   "metadata": {},
   "outputs": [
    {
     "data": {
      "image/png": "[encoded data removed]",
      "text/latex": [
       "$$x^{2}$$"
      ],
      "text/plain": [
       " 2\n",
       "x "
      ]
     },
     "execution_count": 113,
     "metadata": {},
     "output_type": "execute_result"
    }
   ],
   "source": [
    "diff(F,x)"
   ]
  },
  {
   "cell_type": "markdown",
   "metadata": {},
   "source": [
    "Alternately, if you compute the derivative of a function followed by the integral,\n",
    "you will obtain the original function $f(x)$ (up to a constant):\n",
    "\n",
    "$$\n",
    "  \\left( \\int dx \\circ \\frac{d}{dx}\\right) f(x) \\equiv \\int_c^x f'(u)\\;du = f(x) + C.\n",
    "$$"
   ]
  },
  {
   "cell_type": "code",
   "execution_count": 114,
   "metadata": {},
   "outputs": [
    {
     "data": {
      "image/png": "[encoded data removed]",
      "text/latex": [
       "$$2 x$$"
      ],
      "text/plain": [
       "2⋅x"
      ]
     },
     "execution_count": 114,
     "metadata": {},
     "output_type": "execute_result"
    }
   ],
   "source": [
    "f = x**2\n",
    "df = diff(f,x)\n",
    "df"
   ]
  },
  {
   "cell_type": "code",
   "execution_count": 115,
   "metadata": {},
   "outputs": [
    {
     "data": {
      "image/png": "[encoded data removed]",
      "text/latex": [
       "$$x^{2}$$"
      ],
      "text/plain": [
       " 2\n",
       "x "
      ]
     },
     "execution_count": 115,
     "metadata": {},
     "output_type": "execute_result"
    }
   ],
   "source": [
    "integrate(df, x)"
   ]
  },
  {
   "cell_type": "markdown",
   "metadata": {},
   "source": [
    "The fundamental theorem of calculus is important because it tells us how to solve differential equations.\n",
    "If we have to solve for $f(x)$ in the differential equation $\\frac{d}{dx}f(x) = g(x)$,\n",
    "we can take the integral on both sides of the equation to obtain the answer $f(x) = \\int g(x)\\,dx + C$."
   ]
  }
 ],
 "metadata": {
  "kernelspec": {
   "display_name": "Python 3",
   "language": "python",
   "name": "python3"
  },
  "language_info": {
   "codemirror_mode": {
    "name": "ipython",
    "version": 3
   },
   "file_extension": ".py",
   "mimetype": "text/x-python",
   "name": "python",
   "nbconvert_exporter": "python",
   "pygments_lexer": "ipython3",
   "version": "3.6.2"
  }
 },
 "nbformat": 4,
 "nbformat_minor": 1
}
