{
 "cells": [
  {
   "cell_type": "markdown",
   "metadata": {},
   "source": [
    "## Fundamentals of mathematics"
   ]
  },
  {
   "cell_type": "markdown",
   "metadata": {},
   "source": [
    "Let's begin by learning about the basic `SymPy` objects and the\n",
    "operations we can carry out on them. We'll learn the `SymPy` equivalents\n",
    "of many math verbs like &ldquo;to solve&rdquo; (an equation), &ldquo;to expand&rdquo; (an\n",
    "expression), &ldquo;to factor&rdquo; (a polynomial)."
   ]
  },
  {
   "cell_type": "markdown",
   "metadata": {},
   "source": [
    "### Numbers"
   ]
  },
  {
   "cell_type": "markdown",
   "metadata": {},
   "source": [
    "In `Python`, there are two types of number objects: `int`s and `float`s."
   ]
  },
  {
   "cell_type": "code",
   "execution_count": null,
   "metadata": {},
   "outputs": [],
   "source": [
    "3         # an int"
   ]
  },
  {
   "cell_type": "code",
   "execution_count": null,
   "metadata": {},
   "outputs": [],
   "source": [
    "3.0       # a float"
   ]
  },
  {
   "cell_type": "markdown",
   "metadata": {},
   "source": [
    "Integer objects in `Python` are a faithful representation of the set of\n",
    "integers $\\mathbb{Z}=\\{\\ldots,-2,-1,0,1,2,\\ldots\\}$. Floating point numbers are\n",
    "approximate representations of the reals $\\mathbb{R}$. Regardless of its absolute\n",
    "size, a floating point number is only accurate to 16 decimals.\n",
    "\n",
    "Special care is required when specifying rational numbers, because\n",
    "integer division might not produce the answer you want. In other\n",
    "words, Python will not automatically convert the answer to a floating\n",
    "point number, but instead round the answer to the closest integer:"
   ]
  },
  {
   "cell_type": "code",
   "execution_count": null,
   "metadata": {},
   "outputs": [],
   "source": [
    "1/7       # int/int gives int"
   ]
  },
  {
   "cell_type": "markdown",
   "metadata": {},
   "source": [
    "To avoid this problem, you can force `float` division by using the\n",
    "number `1.0` instead of `1`:"
   ]
  },
  {
   "cell_type": "code",
   "execution_count": null,
   "metadata": {},
   "outputs": [],
   "source": [
    "1.0/7     # float/int gives float"
   ]
  },
  {
   "cell_type": "markdown",
   "metadata": {},
   "source": [
    "This result is better, but it's still only an approximation of the exact\n",
    "number $\\frac{1}{7} \\in \\mathbb{Q}$, since a `float` has 16 decimals while the decimal\n",
    "expansion of $\\frac{1}{7}$ is infinitely long. To obtain an *exact* representation\n",
    "of $\\frac{1}{7}$ you need to create a `SymPy` expression. You can sympify any\n",
    "expression using the shortcut function `S()`:"
   ]
  },
  {
   "cell_type": "code",
   "execution_count": null,
   "metadata": {},
   "outputs": [],
   "source": [
    "S('1/7')  # = Rational(1,7)"
   ]
  },
  {
   "cell_type": "markdown",
   "metadata": {},
   "source": [
    "Note the input to `S()` is specified as a text string delimited by quotes.\n",
    "We could have achieved the same result using `S('1')/7` since a `SymPy`\n",
    "object divided by an `int` is a `SymPy` object.\n",
    "\n",
    "Except for the tricky `Python` division operator, other math operators\n",
    "like addition `+`, subtraction `-`, and multiplication `*` work as you would\n",
    "expect. The syntax `**` is used in `Python` to denote exponentiation:"
   ]
  },
  {
   "cell_type": "code",
   "execution_count": null,
   "metadata": {},
   "outputs": [],
   "source": [
    "2**10     # same as S('2^10')"
   ]
  },
  {
   "cell_type": "markdown",
   "metadata": {},
   "source": [
    "When solving math problems, it's best to work with `SymPy` objects,\n",
    "and wait to compute the numeric answer in the end. To obtain a\n",
    "numeric approximation of a `SymPy` object as a `float`, call its `.evalf()`\n",
    "method:"
   ]
  },
  {
   "cell_type": "code",
   "execution_count": null,
   "metadata": {},
   "outputs": [],
   "source": [
    "pi"
   ]
  },
  {
   "cell_type": "code",
   "execution_count": null,
   "metadata": {},
   "outputs": [],
   "source": [
    "pi.evalf()"
   ]
  },
  {
   "cell_type": "markdown",
   "metadata": {},
   "source": [
    "The method `.n()` is equivalent to `.evalf()`. The global `SymPy`\n",
    "function `N()` can also be used to to compute numerical values. You can\n",
    "easily change the number of digits of precision of the approximation.\n",
    "Enter `pi.n(400)` to obtain an approximation of $\\pi$ to 400 decimals."
   ]
  },
  {
   "cell_type": "markdown",
   "metadata": {},
   "source": [
    "### Symbols"
   ]
  },
  {
   "cell_type": "markdown",
   "metadata": {},
   "source": [
    "Python is a civilized language so there's no need to define variables\n",
    "before assigning values to them. When you write `a = 3`, you define a\n",
    "new name `a` and set it to the value `3`. You can now use the name `a`\n",
    "in subsequent calculations.\n",
    "\n",
    "Most interesting `SymPy` calculations require us to define `symbols`,\n",
    "which are the `SymPy` objects for representing variables and unknowns.\n",
    "For your convenience, when [live.sympy.org](http://live.sympy.org) starts, it runs the\n",
    "following commands automatically:"
   ]
  },
  {
   "cell_type": "code",
   "execution_count": null,
   "metadata": {
    "collapsed": true
   },
   "outputs": [],
   "source": [
    "from __future__ import division\n",
    "from sympy import *\n",
    "x, y, z, t = symbols('x y z t')\n",
    "k, m, n = symbols('k m n', integer=True)\n",
    "f, g, h = symbols('f g h', cls=Function)"
   ]
  },
  {
   "cell_type": "markdown",
   "metadata": {},
   "source": [
    "The first statement instructs python to convert `1/7` to `1.0/7` when\n",
    "dividing, potentially saving you from any int division confusion. The\n",
    "second statement imports all the `SymPy` functions. The remaining\n",
    "statements define some generic symbols `x`, `y`, `z`, and `t`, and several\n",
    "other symbols with special properties.\n",
    "\n",
    "Note the difference between the following two statements:"
   ]
  },
  {
   "cell_type": "code",
   "execution_count": null,
   "metadata": {},
   "outputs": [],
   "source": [
    "x + 2            # an Add expression"
   ]
  },
  {
   "cell_type": "code",
   "execution_count": null,
   "metadata": {},
   "outputs": [],
   "source": [
    "p + 2"
   ]
  },
  {
   "cell_type": "markdown",
   "metadata": {},
   "source": [
    "The name `x` is defined as a symbol, so `SymPy` knows that `x + 2` is an\n",
    "expression; but the variable `p` is not defined, so `SymPy` doesn't know\n",
    "what to make of `p + 2`. To use `p` in expressions, you must first define\n",
    "it as a symbol:"
   ]
  },
  {
   "cell_type": "code",
   "execution_count": null,
   "metadata": {},
   "outputs": [],
   "source": [
    "p = Symbol('p')  # the same as p = symbols('p')\n",
    "p + 2            # = Add(Symbol('p'), Integer(2))"
   ]
  },
  {
   "cell_type": "markdown",
   "metadata": {},
   "source": [
    "You can define a sequence of variables using the following notation:"
   ]
  },
  {
   "cell_type": "code",
   "execution_count": null,
   "metadata": {
    "collapsed": true
   },
   "outputs": [],
   "source": [
    "a0, a1, a2, a3 = symbols('a0:4')"
   ]
  },
  {
   "cell_type": "markdown",
   "metadata": {},
   "source": [
    "You can use any name you want for a variable, but it's best if you\n",
    "avoid the letters `Q,C,O,S,I,N` and `E` because they have special uses\n",
    "in `SymPy`: `I` is the unit imaginary number $i \\equiv \\sqrt(-1)$, `E` is the base of\n",
    "the natural logarithm, `S()` is the sympify function, `N()` is used to\n",
    "obtain numeric approximations, and `O` is used for big-O notation.\n",
    "\n",
    "The underscore symbol `_` is a special variable that contains the result\n",
    "of the last printed value. The variable `_` is analogous to the `ans` button\n",
    "on certain calculators, and is useful in multi-step calculations:"
   ]
  },
  {
   "cell_type": "code",
   "execution_count": null,
   "metadata": {},
   "outputs": [],
   "source": [
    "3+3"
   ]
  },
  {
   "cell_type": "code",
   "execution_count": null,
   "metadata": {},
   "outputs": [],
   "source": [
    "_*2"
   ]
  },
  {
   "cell_type": "markdown",
   "metadata": {},
   "source": [
    "### Expresions"
   ]
  },
  {
   "cell_type": "markdown",
   "metadata": {},
   "source": [
    "You define `SymPy` expressions by combining symbols with basic math\n",
    "operations and other functions:"
   ]
  },
  {
   "cell_type": "code",
   "execution_count": null,
   "metadata": {},
   "outputs": [],
   "source": [
    "expr = 2*x + 3*x - sin(x) - 3*x + 42\n",
    "simplify(expr)"
   ]
  },
  {
   "cell_type": "markdown",
   "metadata": {},
   "source": [
    "The function `simplify` can be used on any expression to simplify\n",
    "it. The examples below illustrate other useful `SymPy` functions that\n",
    "correspond to common mathematical operations on expressions:"
   ]
  },
  {
   "cell_type": "code",
   "execution_count": null,
   "metadata": {},
   "outputs": [],
   "source": [
    "factor( x**2-2*x-8 )"
   ]
  },
  {
   "cell_type": "code",
   "execution_count": null,
   "metadata": {},
   "outputs": [],
   "source": [
    "expand( (x-4)*(x+2) )"
   ]
  },
  {
   "cell_type": "code",
   "execution_count": null,
   "metadata": {},
   "outputs": [],
   "source": [
    "a, b = symbols('a b')\n",
    "collect(x**2 + x*b + a*x + a*b, x)  # collect terms for diff. pows of x"
   ]
  },
  {
   "cell_type": "markdown",
   "metadata": {},
   "source": [
    "To substitute a given value into an expression, call the `.subs()`\n",
    "method, passing in a python dictionary object `{ key:val, ... }`\n",
    "with the symbol&ndash;value substitutions you want to make:"
   ]
  },
  {
   "cell_type": "code",
   "execution_count": null,
   "metadata": {},
   "outputs": [],
   "source": [
    "expr = sin(x) + cos(y)\n",
    "expr"
   ]
  },
  {
   "cell_type": "code",
   "execution_count": null,
   "metadata": {},
   "outputs": [],
   "source": [
    "expr.subs({x:1, y:2})"
   ]
  },
  {
   "cell_type": "code",
   "execution_count": null,
   "metadata": {},
   "outputs": [],
   "source": [
    "expr.subs({x:1, y:2}).n()"
   ]
  },
  {
   "cell_type": "markdown",
   "metadata": {},
   "source": [
    "Note how we used `.n()` to obtain the expression's numeric value."
   ]
  },
  {
   "cell_type": "markdown",
   "metadata": {},
   "source": [
    "### Solving equations"
   ]
  },
  {
   "cell_type": "markdown",
   "metadata": {},
   "source": [
    "The function `solve` is the main workhorse in `SymPy`. This incredibly\n",
    "powerful function knows how to solve all kinds of equations. In fact\n",
    "`solve` can solve pretty much any equation! When high school students\n",
    "learn about this function, they get really angry&mdash;why did they spend\n",
    "five years of their life learning to solve various equations by hand,\n",
    "when all along there was this `solve` thing that could do all the math\n",
    "for them? Don't worry, learning math is never a waste of time.\n",
    "\n",
    "The function `solve` takes two arguments. Use `solve(expr,var)` to\n",
    "solve the equation `expr==0` for the variable `var`. You can rewrite any\n",
    "equation in the form `expr==0` by moving all the terms to one side\n",
    "of the equation; the solutions to $A(x) = B(x)$ are the same as the\n",
    "solutions to $A(x) - B(x) = 0$.\n",
    "\n",
    "For example, to solve the quadratic equation $x^2 + 2x - 8 = 0$, use"
   ]
  },
  {
   "cell_type": "code",
   "execution_count": null,
   "metadata": {},
   "outputs": [],
   "source": [
    "solve( x**2 + 2*x - 8, x)"
   ]
  },
  {
   "cell_type": "markdown",
   "metadata": {},
   "source": [
    "In this case the equation has two solutions so `solve` returns a list.\n",
    "Check that $x = 2$ and $x = -4$ satisfy the equation $x^2 + 2x - 8 = 0$.\n",
    "\n",
    "The best part about `solve` and `SymPy` is that you can obtain symbolic\n",
    "answers when solving equations. Instead of solving one specific\n",
    "quadratic equation, we can solve all possible equations of the form\n",
    "$ax^2 + bx + c = 0$ using the following steps:"
   ]
  },
  {
   "cell_type": "code",
   "execution_count": null,
   "metadata": {},
   "outputs": [],
   "source": [
    "a, b, c = symbols('a b c')\n",
    "solve( a*x**2 + b*x + c, x)"
   ]
  },
  {
   "cell_type": "markdown",
   "metadata": {},
   "source": [
    "In this case `solve` calculated the solution in terms of the symbols\n",
    "`a`, `b`, and `c`. You should be able to recognize the expressions in the\n",
    "solution&mdash;it's the quadratic formula $x_{1,2} = \\frac{-b \\pm \\sqrt{b^2 - 4ac}}{2a}$.\n",
    "\n",
    "To solve a specific equation like $x^2 + 2x - 8 = 0$, we can substitute\n",
    "the coefficients $a = 1$, $b = 2$, and $c = -8$ into the general solution to\n",
    "obtain the same result:"
   ]
  },
  {
   "cell_type": "code",
   "execution_count": null,
   "metadata": {},
   "outputs": [],
   "source": [
    "gen_sol = solve( a*x**2 + b*x + c, x)\n",
    "[ gen_sol[0].subs({'a':1,'b':2,'c':-8}),\n",
    "  gen_sol[1].subs({'a':1,'b':2,'c':-8}) ]"
   ]
  },
  {
   "cell_type": "markdown",
   "metadata": {},
   "source": [
    "To solve a *system of equations*, you can feed `solve` with the list of\n",
    "equations as the first argument, and specify the list of unknowns you\n",
    "want to solve for as the second argument. For example, to solve for $x$\n",
    "and $y$ in the system of equations $x + y = 3$ and $3x - 2y = 0$, use"
   ]
  },
  {
   "cell_type": "code",
   "execution_count": null,
   "metadata": {},
   "outputs": [],
   "source": [
    "solve([x + y - 3, 3*x - 2*y], [x, y])"
   ]
  },
  {
   "cell_type": "markdown",
   "metadata": {},
   "source": [
    "The function `solve` is like a Swiss Army knife you can use to solve\n",
    "all kind of problems. Suppose you want to *complete the square* in the\n",
    "expression $x^2 - 4x + 7$, that is, you want to find constants $h$ and $k$\n",
    "such that $x^2 -4x + 7 = (x-h)^2 + k$. There is no special &ldquo;complete the\n",
    "square&rdquo; function in `SymPy`, but you can call solve on the equation\n",
    "$(x - h)^2 + k - (x^2 - 4x + 7) = 0$ to find the unknowns $h$ and $k$:"
   ]
  },
  {
   "cell_type": "code",
   "execution_count": null,
   "metadata": {},
   "outputs": [],
   "source": [
    "h, k = symbols('h k')\n",
    "solve( (x-h)**2 + k - (x**2-4*x+7), [h,k] )"
   ]
  },
  {
   "cell_type": "code",
   "execution_count": null,
   "metadata": {},
   "outputs": [],
   "source": [
    "((x-2)**2+3).expand()  # so h = 2 and k = 3, verify..."
   ]
  },
  {
   "cell_type": "markdown",
   "metadata": {},
   "source": [
    "Learn the basic `SymPy` commands and you'll never need to suffer\n",
    "another tedious arithmetic calculation painstakingly performed by\n",
    "hand again!"
   ]
  },
  {
   "cell_type": "markdown",
   "metadata": {},
   "source": [
    "### Rational functions"
   ]
  },
  {
   "cell_type": "markdown",
   "metadata": {},
   "source": [
    "By default, `SymPy` will not combine or split rational expressions.\n",
    "You need to use `together` to symbolically calculate the addition of\n",
    "fractions:"
   ]
  },
  {
   "cell_type": "code",
   "execution_count": null,
   "metadata": {},
   "outputs": [],
   "source": [
    "a, b, c, d = symbols('a b c d')\n",
    "a/b + c/d"
   ]
  },
  {
   "cell_type": "code",
   "execution_count": null,
   "metadata": {},
   "outputs": [],
   "source": [
    "together(a/b + c/d)"
   ]
  },
  {
   "cell_type": "markdown",
   "metadata": {},
   "source": [
    "Alternately, if you have a rational expression and want to divide the\n",
    "numerator by the denominator, use the `apart` function:"
   ]
  },
  {
   "cell_type": "code",
   "execution_count": null,
   "metadata": {},
   "outputs": [],
   "source": [
    "apart( (x**2+x+4)/(x+2) )"
   ]
  },
  {
   "cell_type": "markdown",
   "metadata": {},
   "source": [
    "### Exponentials and logarithms"
   ]
  },
  {
   "cell_type": "markdown",
   "metadata": {},
   "source": [
    "Euler's constant $e = 2.71828\\dots$ is defined one of several ways,\n",
    "\n",
    "$$\n",
    "e \\equiv \\lim_{n\\to\\infty}\\left(1+\\frac{1}{n}\\right)^n\n",
    "  \\equiv \\lim_{\\epsilon\\to 0}(1+\\epsilon)^{1/\\epsilon}\n",
    "  \\equiv \\sum_{n=0}^{\\infty}\\frac{1}{n!},\n",
    "$$\n",
    "\n",
    "and is denoted `E` in `SymPy`. Using `exp(x)` is equivalent to `E**x`.\n",
    "\n",
    "The functions `log` and `ln` both compute the logarithm base $e$:"
   ]
  },
  {
   "cell_type": "code",
   "execution_count": null,
   "metadata": {},
   "outputs": [],
   "source": [
    "log(E**3)  # same as ln(E**3)"
   ]
  },
  {
   "cell_type": "markdown",
   "metadata": {},
   "source": [
    "By default, `SymPy` assumes the inputs to functions like `exp` and `log` are\n",
    "complex numbers, so it will not expand certain logarithmic expressions.\n",
    "However, indicating to `SymPy` that the inputs are positive real numbers\n",
    "will make the expansions work:"
   ]
  },
  {
   "cell_type": "code",
   "execution_count": null,
   "metadata": {},
   "outputs": [],
   "source": [
    "x, y = symbols('x y')\n",
    "log(x*y).expand()"
   ]
  },
  {
   "cell_type": "code",
   "execution_count": null,
   "metadata": {},
   "outputs": [],
   "source": [
    "a, b = symbols('a b', positive=True)\n",
    "log(a*b).expand()"
   ]
  },
  {
   "cell_type": "markdown",
   "metadata": {},
   "source": [
    "### Polynomials"
   ]
  },
  {
   "cell_type": "markdown",
   "metadata": {},
   "source": [
    "Let's define a polynomial $P$ with roots at $x = 1$, $x = 2$, and $x = 3$:"
   ]
  },
  {
   "cell_type": "code",
   "execution_count": null,
   "metadata": {},
   "outputs": [],
   "source": [
    "P = (x-1)*(x-2)*(x-3)\n",
    "P"
   ]
  },
  {
   "cell_type": "markdown",
   "metadata": {},
   "source": [
    "To see the expanded version of the polynomial, call its `expand` method:"
   ]
  },
  {
   "cell_type": "code",
   "execution_count": null,
   "metadata": {},
   "outputs": [],
   "source": [
    "P.expand()"
   ]
  },
  {
   "cell_type": "markdown",
   "metadata": {},
   "source": [
    "When the polynomial is expressed in it's expanded form $P(x) =\n",
    "x^3 - 6x^2 + 11x - 6$, we can't immediately identify its roots. This is\n",
    "why the factored form $P(x) = (x - 1)(x - 2)(x - 3)$ is preferable. To\n",
    "factor a polynomial, call its `factor` method or simplify it:"
   ]
  },
  {
   "cell_type": "code",
   "execution_count": null,
   "metadata": {},
   "outputs": [],
   "source": [
    "P.factor()"
   ]
  },
  {
   "cell_type": "code",
   "execution_count": null,
   "metadata": {},
   "outputs": [],
   "source": [
    "P.simplify()"
   ]
  },
  {
   "cell_type": "markdown",
   "metadata": {},
   "source": [
    "Recall that the roots of the polynomial $P(x)$ are defined as the\n",
    "solutions to the equation $P(x) = 0$. We can use the `solve` function\n",
    "to find the roots of the polynomial:"
   ]
  },
  {
   "cell_type": "code",
   "execution_count": null,
   "metadata": {},
   "outputs": [],
   "source": [
    "roots = solve(P,x)\n",
    "roots"
   ]
  },
  {
   "cell_type": "code",
   "execution_count": null,
   "metadata": {},
   "outputs": [],
   "source": [
    "# let's check if P equals (x-1)(x-2)(x-3)\n",
    "simplify( P - (x-roots[0])*(x-roots[1])*(x-roots[2]) )"
   ]
  },
  {
   "cell_type": "markdown",
   "metadata": {},
   "source": [
    "### Equality checking"
   ]
  },
  {
   "cell_type": "markdown",
   "metadata": {},
   "source": [
    "In the last example, we used the `simplify` function to check whether\n",
    "two expressions were equal. This way of checking equality works\n",
    "because $P = Q$ if and only if $P - Q = 0$. This is the best way to\n",
    "check if two expressions are equal in `SymPy` because it attempts all\n",
    "possible simplifications when comparing the expressions. Below is\n",
    "a list of other ways to check whether two quantities are equal with\n",
    "example cases where they fail:"
   ]
  },
  {
   "cell_type": "code",
   "execution_count": null,
   "metadata": {
    "collapsed": true
   },
   "outputs": [],
   "source": [
    "p = (x-5)*(x+5)\n",
    "q = x**2 - 25"
   ]
  },
  {
   "cell_type": "code",
   "execution_count": null,
   "metadata": {},
   "outputs": [],
   "source": [
    "p == q                      # fail"
   ]
  },
  {
   "cell_type": "code",
   "execution_count": null,
   "metadata": {},
   "outputs": [],
   "source": [
    "p - q == 0                  # fail"
   ]
  },
  {
   "cell_type": "code",
   "execution_count": null,
   "metadata": {},
   "outputs": [],
   "source": [
    "simplify(p - q) == 0"
   ]
  },
  {
   "cell_type": "code",
   "execution_count": null,
   "metadata": {},
   "outputs": [],
   "source": [
    "sin(x)**2 + cos(x)**2 == 1  # fail"
   ]
  },
  {
   "cell_type": "code",
   "execution_count": null,
   "metadata": {},
   "outputs": [],
   "source": [
    "simplify( sin(x)**2 + cos(x)**2 - 1) == 0"
   ]
  },
  {
   "cell_type": "markdown",
   "metadata": {},
   "source": [
    "### Trigonometry"
   ]
  },
  {
   "cell_type": "markdown",
   "metadata": {},
   "source": [
    "The trigonometric functions `sin` and `cos` take inputs in radians:"
   ]
  },
  {
   "cell_type": "code",
   "execution_count": null,
   "metadata": {},
   "outputs": [],
   "source": [
    "sin(pi/6)"
   ]
  },
  {
   "cell_type": "code",
   "execution_count": null,
   "metadata": {},
   "outputs": [],
   "source": [
    "cos(pi/6)"
   ]
  },
  {
   "cell_type": "markdown",
   "metadata": {},
   "source": [
    "For angles in degrees, you need a conversion factor of $\\frac{\\pi}{180}$[rad/$^\\circ$]:"
   ]
  },
  {
   "cell_type": "code",
   "execution_count": null,
   "metadata": {},
   "outputs": [],
   "source": [
    "sin(30*pi/180)  # 30 deg = pi/6 rads"
   ]
  },
  {
   "cell_type": "markdown",
   "metadata": {},
   "source": [
    "The inverse trigonometric functions $\\sin^{-1}(x) \\equiv \\arcsin(x)$ and\n",
    "$\\cos^{-1}(x) \\equiv \\arccos(x)$ are used as follows:"
   ]
  },
  {
   "cell_type": "code",
   "execution_count": null,
   "metadata": {},
   "outputs": [],
   "source": [
    "asin(1/2)"
   ]
  },
  {
   "cell_type": "code",
   "execution_count": null,
   "metadata": {},
   "outputs": [],
   "source": [
    "acos(sqrt(3)/2)"
   ]
  },
  {
   "cell_type": "markdown",
   "metadata": {},
   "source": [
    "Recall that $\\tan(x) \\equiv \\frac{\\sin(x)}{\\cos(x)}$. The inverse function of $\\tan(x)$ is $\\tan^{-1}(x) \\equiv \\arctan(x) \\equiv$ `atan(x)`"
   ]
  },
  {
   "cell_type": "code",
   "execution_count": null,
   "metadata": {},
   "outputs": [],
   "source": [
    "tan(pi/6)"
   ]
  },
  {
   "cell_type": "code",
   "execution_count": null,
   "metadata": {},
   "outputs": [],
   "source": [
    "atan( 1/sqrt(3) )"
   ]
  },
  {
   "cell_type": "markdown",
   "metadata": {},
   "source": [
    "The function `acos` returns angles in the range $[0, \\pi]$, while `asin` and\n",
    "`atan` return angles in the range $[-\\frac{\\pi}{2},\\frac{\\pi}{2}]$.\n",
    "\n",
    "Here are some trigonometric identities that `SymPy` knows:"
   ]
  },
  {
   "cell_type": "code",
   "execution_count": null,
   "metadata": {},
   "outputs": [],
   "source": [
    "sin(x) == cos(x - pi/2)"
   ]
  },
  {
   "cell_type": "code",
   "execution_count": null,
   "metadata": {},
   "outputs": [],
   "source": [
    "simplify( sin(x)*cos(y)+cos(x)*sin(y) )"
   ]
  },
  {
   "cell_type": "code",
   "execution_count": null,
   "metadata": {},
   "outputs": [],
   "source": [
    "e = 2*sin(x)**2 + 2*cos(x)**2\n",
    "trigsimp(e)"
   ]
  },
  {
   "cell_type": "code",
   "execution_count": null,
   "metadata": {},
   "outputs": [],
   "source": [
    "trigsimp(log(e))"
   ]
  },
  {
   "cell_type": "code",
   "execution_count": null,
   "metadata": {},
   "outputs": [],
   "source": [
    "trigsimp(log(e), deep=True)"
   ]
  },
  {
   "cell_type": "code",
   "execution_count": null,
   "metadata": {},
   "outputs": [],
   "source": [
    "simplify(sin(x)**4 - 2*cos(x)**2*sin(x)**2 + cos(x)**4)"
   ]
  },
  {
   "cell_type": "markdown",
   "metadata": {},
   "source": [
    "The function `trigsimp` does essentially the same job as `simplify`.\n",
    "\n",
    "If instead of simplifying you want to expand a trig expression, you\n",
    "should use `expand_trig`, because the default `expand` won't touch trig\n",
    "functions:"
   ]
  },
  {
   "cell_type": "code",
   "execution_count": null,
   "metadata": {},
   "outputs": [],
   "source": [
    "expand(sin(2*x))       # = (sin(2*x)).expand()"
   ]
  },
  {
   "cell_type": "code",
   "execution_count": null,
   "metadata": {},
   "outputs": [],
   "source": [
    "expand_trig(sin(2*x))  # = (sin(2*x)).expand(trig=True)"
   ]
  },
  {
   "cell_type": "markdown",
   "metadata": {},
   "source": [
    "### Hyperbolic trigonometric functions"
   ]
  },
  {
   "cell_type": "markdown",
   "metadata": {},
   "source": [
    "The hyperbolic sine and cosine in `SymPy` are denoted `sinh` and `cosh`\n",
    "respectively and `SymPy` is smart enough to recognize them when\n",
    "simplifying expressions:"
   ]
  },
  {
   "cell_type": "code",
   "execution_count": null,
   "metadata": {},
   "outputs": [],
   "source": [
    "simplify( (exp(x)+exp(-x))/2 )"
   ]
  },
  {
   "cell_type": "code",
   "execution_count": null,
   "metadata": {},
   "outputs": [],
   "source": [
    "simplify( (exp(x)-exp(-x))/2 )"
   ]
  },
  {
   "cell_type": "markdown",
   "metadata": {},
   "source": [
    "Recall that $x = \\cosh(\\mu)$ and $y = \\sinh(\\mu)$ are defined as $x$ and $y$\n",
    "coordinates of a point on the the hyperbola with equation $x^2 - y^2 = 1$\n",
    "and therefore satisfy the identity $\\cosh^2 x - \\sinh^2 x = 1$:"
   ]
  },
  {
   "cell_type": "code",
   "execution_count": null,
   "metadata": {},
   "outputs": [],
   "source": [
    "simplify( cosh(x)**2 - sinh(x)**2 )"
   ]
  }
 ],
 "metadata": {
  "kernelspec": {
   "display_name": "Python 3",
   "language": "python",
   "name": "python3"
  },
  "language_info": {
   "codemirror_mode": {
    "name": "ipython",
    "version": 3
   },
   "file_extension": ".py",
   "mimetype": "text/x-python",
   "name": "python",
   "nbconvert_exporter": "python",
   "pygments_lexer": "ipython3",
   "version": "3.6.2"
  }
 },
 "nbformat": 4,
 "nbformat_minor": 1
}
