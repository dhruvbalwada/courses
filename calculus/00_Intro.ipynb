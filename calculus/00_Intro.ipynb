{
 "cells": [
  {
   "cell_type": "markdown",
   "metadata": {},
   "source": [
    "## Why bother calculus?"
   ]
  },
  {
   "cell_type": "markdown",
   "metadata": {},
   "source": [
    "Most people consider math and physics to be scary beasts \n",
    "from which it is best to keep one's distance. \n",
    "\n",
    "Computers,however, can help us tame the beasts. \n",
    "Math and physics are much more approachable once you have the power of computers on your side."
   ]
  },
  {
   "cell_type": "markdown",
   "metadata": {},
   "source": [
    "This tutorial serves a dual purpose. \n",
    "\n",
    "1. On one hand, it serves as a review of the fundamental concepts of mathematics\n",
    "for computer-literate people. \n",
    "2. On the other hand, this tutorial serves to demonstrate to students how a computer algebra system can\n",
    "help them in life. "
   ]
  },
  {
   "cell_type": "markdown",
   "metadata": {},
   "source": [
    "You can use a computer algebra system (CAS) to compute complicated\n",
    "math expressions, solve equations, perform calculus procedures,\n",
    "and simulate physics systems."
   ]
  },
  {
   "cell_type": "markdown",
   "metadata": {},
   "source": [
    "All computer algebra systems offer essentially the same functionality,\n",
    "so it doesn't matter which system you use: there are free\n",
    "systems like `SymPy`, `Magma`, or `Octave`, and commercial systems like\n",
    "`Maple`, `MATLAB`, and `Mathematica`. "
   ]
  },
  {
   "cell_type": "markdown",
   "metadata": {},
   "source": [
    "## Contents\n",
    "\n",
    "1. [What is a Jupyter.. and python?](../00_Intro.ipynb)\n",
    "1. [Introduction to computer algebra system (CAS)?](00_Intro.ipynb)\n",
    "1. [Calculating area under a curve](01_Calculating_area_under_curve.ipynb)\n",
    "1. [Introduction to `sympy`](02_Introduction_to_sympy.ipynb)\n",
    "1. [Solving equations using sympy](03_Solving_equations_by_sympy.ipynb)\n",
    "1. [More calculus](04_More_calculus.ipynb)"
   ]
  },
  {
   "cell_type": "code",
   "execution_count": null,
   "metadata": {
    "collapsed": true
   },
   "outputs": [],
   "source": []
  }
 ],
 "metadata": {
  "kernelspec": {
   "display_name": "Python 3",
   "language": "python",
   "name": "python3"
  },
  "language_info": {
   "codemirror_mode": {
    "name": "ipython",
    "version": 3
   },
   "file_extension": ".py",
   "mimetype": "text/x-python",
   "name": "python",
   "nbconvert_exporter": "python",
   "pygments_lexer": "ipython3",
   "version": "3.6.2"
  }
 },
 "nbformat": 4,
 "nbformat_minor": 1
}
