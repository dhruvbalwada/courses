{
 "cells": [
  {
   "cell_type": "markdown",
   "metadata": {},
   "source": [
    "## Calculating area under a curve"
   ]
  },
  {
   "cell_type": "code",
   "execution_count": null,
   "metadata": {},
   "outputs": [],
   "source": [
    "%matplotlib inline\n",
    "import matplotlib.pyplot as plt\n",
    "import numpy as np\n",
    "\n",
    "x = [0, 0.2, 0.4, 0.6, 0.8, 1.0]\n",
    "y1 = [0, 0.2, 0.4, 0.6, 0.8, 1.0]\n",
    "y2 = [0, 0.042, 0.142, 0.299, 0.532, 1.00]\n",
    "\n",
    "plt.plot(x, y1, '--o', label = 'line1')\n",
    "plt.plot(x, y2, '--o', label = 'line2')\n",
    "plt.fill_between(x, y1, y2, color = 'lightgray',label='\"Get this area\"')\n",
    "plt.xlabel('x')\n",
    "plt.ylabel('y')\n",
    "plt.legend(loc = 'best', frameon = True)"
   ]
  },
  {
   "cell_type": "markdown",
   "metadata": {},
   "source": [
    "##### Q: What is the area of the region shaded in grey?\n",
    "\n",
    "##### A: substract area under line2 from area under line1\n",
    "\n",
    "$ \"Get\\ this\\ area\" = area\\ under\\ line1 - area\\ under\\ line2 $\n",
    "\n",
    "##### getting area under line1 would be easy, since it is a diagonal, $y=f(x)=x$ \n",
    "$area\\ under\\ line1\\ = total\\ area\\ /\\ 2$\n",
    "##### Since x and y are equal (both range from 0 to 1), $total\\ area\\ = 1$\n",
    "##### So. $area\\ under\\ line1\\ = 0.5$\n",
    "#####  but, line2 is a curved line, calculating $area\\ under\\ line1$ is not going to be that easy. \n",
    "#####  First we need to find a pattern or trend of line2 with values of $x$\n",
    "#####  the $y2$ data underlying line2 need to be formulated in a mathematical expression.. \n",
    "##### so that it can be integrated later [SPOILER ALERT].\n",
    "\n",
    "##### Looking at the trend of line2 we wud first search through degrees of $x$ i.e. $x^2$, $x^3$, $x^4$ so on.."
   ]
  },
  {
   "cell_type": "code",
   "execution_count": null,
   "metadata": {
    "scrolled": true
   },
   "outputs": [],
   "source": [
    "x = [0, 0.2, 0.4, 0.6, 0.8, 1.0]\n",
    "y1 = [0, 0.2, 0.4, 0.6, 0.8, 1.0]\n",
    "y2 = [0, 0.042, 0.142, 0.299, 0.532, 1.00]\n",
    "\n",
    "plt.plot(x, y2, '--o', label = 'line2',lw=4)\n",
    "for power in [1,2,3,4]:\n",
    "    plt.plot(x,[i**power for i in x],label='$y=x^{}$'.format(power))\n",
    "plt.xlabel('x')\n",
    "plt.ylabel('y')\n",
    "plt.legend(loc = 'best', frameon = True)"
   ]
  },
  {
   "cell_type": "markdown",
   "metadata": {},
   "source": [
    "##### now we get the formal equation of line2 by fitting it to a polynomial equation with degree=2"
   ]
  },
  {
   "cell_type": "code",
   "execution_count": null,
   "metadata": {},
   "outputs": [],
   "source": [
    "x = [0, 0.2, 0.4, 0.6, 0.8, 1.0]\n",
    "y1 = [0, 0.2, 0.4, 0.6, 0.8, 1.0]\n",
    "y2 = [0, 0.042, 0.142, 0.299, 0.532, 1.00]\n",
    "\n",
    "fit = np.poly1d(np.polyfit(x, y2, 2))\n",
    "plt.plot(x, y1, '--o', label = 'line1')\n",
    "plt.plot(x, y2, '--o', label = 'line2')\n",
    "plt.plot(x,fit(x),\n",
    "         label='y=${}$'.format(''.join(['{}x^{}'.format(('{:.2f}'.format(j) if j<0 else '+{:.2f}'.format(j)),(len(fit.coef)-i-1)) for i,j in enumerate(fit.coef)])))\n",
    "# plt.plot(x, fit(x),label = '$y=1.18x^2-0.24x+0.02$')\n",
    "plt.fill_between(x, y1, y2, color = 'lightgray',label='\"Get this area\"')\n",
    "plt.xlabel('x')\n",
    "plt.ylabel('y')\n",
    "plt.legend(loc = 'best', frameon = True)"
   ]
  },
  {
   "cell_type": "markdown",
   "metadata": {},
   "source": [
    "##### Now that the formal equation for line 2 is also ready ($y=f(x)=y=1.18x^2-0.24x+0.02$),\n",
    "##### areas under both lines can calculated (integrated).  "
   ]
  },
  {
   "cell_type": "code",
   "execution_count": null,
   "metadata": {
    "scrolled": true
   },
   "outputs": [],
   "source": [
    "%%sh\n",
    "jupyter nbextension enable --py --sys-prefix widgetsnbextension"
   ]
  },
  {
   "cell_type": "code",
   "execution_count": null,
   "metadata": {
    "collapsed": true
   },
   "outputs": [],
   "source": [
    "import numpy as np\n",
    "import matplotlib.pyplot as plt\n",
    "from matplotlib.patches import Polygon\n",
    "\n",
    "from ipywidgets import interact, interactive, fixed, interact_manual,FloatSlider\n",
    "from IPython.display import display\n",
    "import ipywidgets as widgets\n",
    "\n",
    "a_widget = FloatSlider(min=0.0, max=1.0, step=0.2,value=0)\n",
    "b_widget = FloatSlider(min=0.0, max=1.0, step=0.2,value=0)\n",
    "dx_widget = FloatSlider(min=0.01, max=0.05, step=0.01,value=0.05)\n",
    "# n_widget = FloatSlider(min=20, max=100, step=20,value=20)\n",
    "\n",
    "#@interact(a=a_widget, b=b_widget, n=n_widget)\n",
    "def plot_integration_interact(a=0, b=1, dx=100):\n",
    "    fig, ax = plt.subplots()\n",
    "    ax.plot(x, y1, '--o', label = 'line1')\n",
    "    ax.plot(x, y2, '--o', label = 'line2')\n",
    "    ax.plot(x,fit(x),\n",
    "             label='y=${}$'.format(''.join(['{}x^{}'.format(('{:.2f}'.format(j) if j<0 else '+{:.2f}'.format(j)),(len(fit.coef)-i-1)) for i,j in enumerate(fit.coef)])))\n",
    "    # plt.plot(x, fit(x),label = '$y=1.18x^2-0.24x+0.02$')\n",
    "    ax.fill_between(x, y1, y2, color = 'lightgray',label='\"Get this area\"')\n",
    "    ax=integration(f,a, b, dx,ax=ax,facecolor = 'r')\n",
    "    ax.set_xlabel('x')\n",
    "    ax.set_ylabel('y')\n",
    "    ax.legend(loc = 'best', frameon = True)\n",
    "    ax.set_title('$area under line1$')"
   ]
  },
  {
   "cell_type": "code",
   "execution_count": null,
   "metadata": {
    "collapsed": true
   },
   "outputs": [],
   "source": [
    "# Integration calculation.\n",
    "def integration(f,a, b, dx, verbose=True,\n",
    "                plot=True,ax=None,facecolor = 'r'):\n",
    "    n=(b - a) / dx\n",
    "    if n>10:\n",
    "        verbose=False\n",
    "    if verbose:\n",
    "        print('a= {}, b= {}, dx= {:.3f}'.format(a,b,dx))\n",
    "    integration = 0\n",
    "    for i in np.arange(1, n + 1):\n",
    "        integration += f(a + i * dx) * dx\n",
    "        if verbose:\n",
    "            print('f(x)={:.3f} when x was {:.3f}'.format(f(a + i * dx) * dx,a + i * dx))\n",
    "        if plot:\n",
    "    #         ax.plot(a + i * dx,f(a + i * dx),'o')\n",
    "            if i==n+1:\n",
    "                label=r\"$\\int_{a}^{b}f(x)dx$\"+\"={:.6f}\".format(integration)\n",
    "            else:\n",
    "                label=None\n",
    "            ax.add_patch(Polygon([(a + i * dx-dx,f(a + i * dx)),(a + i * dx,f(a + i * dx)),\n",
    "                                  (a + i * dx,0),(a + i * dx-dx,0)], facecolor = facecolor, alpha=0.3, label = label))\n",
    "                \n",
    "    print('sum of all f(x) = {:.3f} = area under the line'.format(integration))\n",
    "    return ax"
   ]
  },
  {
   "cell_type": "markdown",
   "metadata": {},
   "source": [
    "$area\\ under\\ line1$"
   ]
  },
  {
   "cell_type": "code",
   "execution_count": null,
   "metadata": {},
   "outputs": [],
   "source": [
    "def f(x):\n",
    "    return 1.19*x**2 - 0.24*x + 0.02 \n",
    "interactive(plot_integration_interact, a=a_widget, b=b_widget, dx=dx_widget)"
   ]
  },
  {
   "cell_type": "markdown",
   "metadata": {},
   "source": [
    "$area\\ under\\ line2$"
   ]
  },
  {
   "cell_type": "code",
   "execution_count": null,
   "metadata": {},
   "outputs": [],
   "source": [
    "def f(x):\n",
    "    return x \n",
    "interactive(plot_integration_interact, a=a_widget, b=b_widget, dx=dx_widget)"
   ]
  },
  {
   "cell_type": "markdown",
   "metadata": {},
   "source": [
    "##### Now evaluating integrations using  `Computer Algebra System (CAS)` ."
   ]
  },
  {
   "cell_type": "code",
   "execution_count": null,
   "metadata": {
    "collapsed": true
   },
   "outputs": [],
   "source": [
    "from sympy import *\n",
    "init_printing(use_latex='mathjax')\n",
    "x = Symbol('x')"
   ]
  },
  {
   "cell_type": "markdown",
   "metadata": {},
   "source": [
    "##### first, $area\\ under\\ line1$"
   ]
  },
  {
   "cell_type": "code",
   "execution_count": null,
   "metadata": {
    "scrolled": true
   },
   "outputs": [],
   "source": [
    "eq1=Integral(x, (x, 0, 1))\n",
    "eq1"
   ]
  },
  {
   "cell_type": "code",
   "execution_count": null,
   "metadata": {},
   "outputs": [],
   "source": [
    "eq2=eq1.integrate(x)\n",
    "eq2"
   ]
  },
  {
   "cell_type": "code",
   "execution_count": null,
   "metadata": {},
   "outputs": [],
   "source": [
    "print(eq2.evalf(subs={x:1}))\n",
    "area_under_line1=eq2.evalf(subs={x:1})"
   ]
  },
  {
   "cell_type": "code",
   "execution_count": null,
   "metadata": {
    "scrolled": false
   },
   "outputs": [],
   "source": [
    "eq3=Integral((x - fit(x)), (x, 0, 1))\n",
    "eq3"
   ]
  },
  {
   "cell_type": "code",
   "execution_count": null,
   "metadata": {},
   "outputs": [],
   "source": [
    "eq4=eq3.integrate(x)\n",
    "eq4"
   ]
  },
  {
   "cell_type": "code",
   "execution_count": null,
   "metadata": {},
   "outputs": [],
   "source": [
    "print(eq4.evalf(subs={x:1}))\n",
    "area_under_line2=eq4.evalf(subs={x:1})"
   ]
  },
  {
   "cell_type": "code",
   "execution_count": null,
   "metadata": {
    "scrolled": true
   },
   "outputs": [],
   "source": [
    "Get_this_area=area_under_line1-area_under_line2\n",
    "print(Get_this_area)"
   ]
  },
  {
   "cell_type": "code",
   "execution_count": null,
   "metadata": {
    "collapsed": true
   },
   "outputs": [],
   "source": []
  }
 ],
 "metadata": {
  "kernelspec": {
   "display_name": "Python 3",
   "language": "python",
   "name": "python3"
  },
  "language_info": {
   "codemirror_mode": {
    "name": "ipython",
    "version": 3
   },
   "file_extension": ".py",
   "mimetype": "text/x-python",
   "name": "python",
   "nbconvert_exporter": "python",
   "pygments_lexer": "ipython3",
   "version": "3.6.2"
  }
 },
 "nbformat": 4,
 "nbformat_minor": 1
}
